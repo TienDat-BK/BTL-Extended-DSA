{
  "nbformat": 4,
  "nbformat_minor": 0,
  "metadata": {
    "colab": {
      "provenance": []
    },
    "kernelspec": {
      "name": "python3",
      "display_name": "Python 3"
    },
    "language_info": {
      "name": "python"
    }
  },
  "cells": [
    {
      "cell_type": "code",
      "execution_count": 1,
      "metadata": {
        "colab": {
          "base_uri": "https://localhost:8080/"
        },
        "id": "KdY_DfmP2Qq8",
        "outputId": "3176da4e-3ba3-47fd-ed11-1c001515a7f7"
      },
      "outputs": [
        {
          "output_type": "stream",
          "name": "stdout",
          "text": [
            "Cloning into 'BTL-Extended-DSA'...\n",
            "remote: Enumerating objects: 2428, done.\u001b[K\n",
            "remote: Counting objects: 100% (2428/2428), done.\u001b[K\n",
            "remote: Compressing objects: 100% (2115/2115), done.\u001b[K\n",
            "remote: Total 2428 (delta 297), reused 2396 (delta 269), pack-reused 0 (from 0)\u001b[K\n",
            "Receiving objects: 100% (2428/2428), 16.78 MiB | 9.12 MiB/s, done.\n",
            "Resolving deltas: 100% (297/297), done.\n"
          ]
        }
      ],
      "source": [
        "!git clone -b binding --single-branch https://github.com/TienDat-BK/BTL-Extended-DSA.git"
      ]
    },
    {
      "cell_type": "code",
      "source": [
        "!apt-get update\n",
        "!apt-get install -y g++\n",
        "!pip install pybind11\n"
      ],
      "metadata": {
        "collapsed": true,
        "id": "3vG-XZ9z2VlR"
      },
      "execution_count": null,
      "outputs": []
    },
    {
      "cell_type": "code",
      "source": [
        "get_ipython().system('rm -rf /content/BTL-Extended-DSA/HSmodule.cpython-312-x86_64-linux-gnu.so')"
      ],
      "metadata": {
        "id": "I2UR4Ta92iJ5"
      },
      "execution_count": 22,
      "outputs": []
    },
    {
      "cell_type": "code",
      "source": [
        "%cd /content/BTL-Extended-DSA\n",
        "!python setup.py build_ext --inplace"
      ],
      "metadata": {
        "colab": {
          "base_uri": "https://localhost:8080/"
        },
        "id": "GW7WUrcT2WAC",
        "outputId": "ef263140-bdc9-4685-f0ef-c54acbfbe13e"
      },
      "execution_count": 23,
      "outputs": [
        {
          "output_type": "stream",
          "name": "stdout",
          "text": [
            "/content/BTL-Extended-DSA\n",
            "running build_ext\n",
            "building 'HSmodule' extension\n",
            "x86_64-linux-gnu-g++ -fno-strict-overflow -Wsign-compare -DNDEBUG -g -O2 -Wall -g -fstack-protector-strong -Wformat -Werror=format-security -g -fwrapv -O2 -fPIC -I/usr/local/lib/python3.12/dist-packages/pybind11/include -Iheader -I/usr/include/python3.12 -c binding/bind_MinHash.cpp -o build/temp.linux-x86_64-cpython-312/binding/bind_MinHash.o -fvisibility=hidden -g0 -std=c++17 -O3 -Wall -fPIC\n",
            "x86_64-linux-gnu-g++ -fno-strict-overflow -Wsign-compare -DNDEBUG -g -O2 -Wall -g -fstack-protector-strong -Wformat -Werror=format-security -g -fwrapv -O2 -fPIC -I/usr/local/lib/python3.12/dist-packages/pybind11/include -Iheader -I/usr/include/python3.12 -c binding/bind_SimHash.cpp -o build/temp.linux-x86_64-cpython-312/binding/bind_SimHash.o -fvisibility=hidden -g0 -std=c++17 -O3 -Wall -fPIC\n",
            "x86_64-linux-gnu-g++ -fno-strict-overflow -Wsign-compare -DNDEBUG -g -O2 -Wall -g -fstack-protector-strong -Wformat -Werror=format-security -g -fwrapv -O2 -fPIC -I/usr/local/lib/python3.12/dist-packages/pybind11/include -Iheader -I/usr/include/python3.12 -c binding/bind_ihash.cpp -o build/temp.linux-x86_64-cpython-312/binding/bind_ihash.o -fvisibility=hidden -g0 -std=c++17 -O3 -Wall -fPIC\n",
            "x86_64-linux-gnu-g++ -fno-strict-overflow -Wsign-compare -DNDEBUG -g -O2 -Wall -g -fstack-protector-strong -Wformat -Werror=format-security -g -fwrapv -O2 -fPIC -I/usr/local/lib/python3.12/dist-packages/pybind11/include -Iheader -I/usr/include/python3.12 -c binding/bind_main.cpp -o build/temp.linux-x86_64-cpython-312/binding/bind_main.o -fvisibility=hidden -g0 -std=c++17 -O3 -Wall -fPIC\n",
            "x86_64-linux-gnu-g++ -fno-strict-overflow -Wsign-compare -DNDEBUG -g -O2 -Wall -g -fstack-protector-strong -Wformat -Werror=format-security -g -fwrapv -O2 -fPIC -I/usr/local/lib/python3.12/dist-packages/pybind11/include -Iheader -I/usr/include/python3.12 -c binding/bind_search.cpp -o build/temp.linux-x86_64-cpython-312/binding/bind_search.o -fvisibility=hidden -g0 -std=c++17 -O3 -Wall -fPIC\n",
            "x86_64-linux-gnu-g++ -fno-strict-overflow -Wsign-compare -DNDEBUG -g -O2 -Wall -g -fstack-protector-strong -Wformat -Werror=format-security -g -fwrapv -O2 -fPIC -I/usr/local/lib/python3.12/dist-packages/pybind11/include -Iheader -I/usr/include/python3.12 -c binding/bind_vectorRecord.cpp -o build/temp.linux-x86_64-cpython-312/binding/bind_vectorRecord.o -fvisibility=hidden -g0 -std=c++17 -O3 -Wall -fPIC\n",
            "x86_64-linux-gnu-g++ -fno-strict-overflow -Wsign-compare -DNDEBUG -g -O2 -Wall -g -fstack-protector-strong -Wformat -Werror=format-security -g -fwrapv -O2 -fPIC -I/usr/local/lib/python3.12/dist-packages/pybind11/include -Iheader -I/usr/include/python3.12 -c source/ISearch.cpp -o build/temp.linux-x86_64-cpython-312/source/ISearch.o -fvisibility=hidden -g0 -std=c++17 -O3 -Wall -fPIC\n",
            "x86_64-linux-gnu-g++ -fno-strict-overflow -Wsign-compare -DNDEBUG -g -O2 -Wall -g -fstack-protector-strong -Wformat -Werror=format-security -g -fwrapv -O2 -fPIC -I/usr/local/lib/python3.12/dist-packages/pybind11/include -Iheader -I/usr/include/python3.12 -c source/MinHash.cpp -o build/temp.linux-x86_64-cpython-312/source/MinHash.o -fvisibility=hidden -g0 -std=c++17 -O3 -Wall -fPIC\n",
            "x86_64-linux-gnu-g++ -fno-strict-overflow -Wsign-compare -DNDEBUG -g -O2 -Wall -g -fstack-protector-strong -Wformat -Werror=format-security -g -fwrapv -O2 -fPIC -I/usr/local/lib/python3.12/dist-packages/pybind11/include -Iheader -I/usr/include/python3.12 -c source/MurmurHash3.cpp -o build/temp.linux-x86_64-cpython-312/source/MurmurHash3.o -fvisibility=hidden -g0 -std=c++17 -O3 -Wall -fPIC\n",
            "x86_64-linux-gnu-g++ -fno-strict-overflow -Wsign-compare -DNDEBUG -g -O2 -Wall -g -fstack-protector-strong -Wformat -Werror=format-security -g -fwrapv -O2 -fPIC -I/usr/local/lib/python3.12/dist-packages/pybind11/include -Iheader -I/usr/include/python3.12 -c source/SimHash.cpp -o build/temp.linux-x86_64-cpython-312/source/SimHash.o -fvisibility=hidden -g0 -std=c++17 -O3 -Wall -fPIC\n",
            "x86_64-linux-gnu-g++ -fno-strict-overflow -Wsign-compare -DNDEBUG -g -O2 -Wall -g -fstack-protector-strong -Wformat -Werror=format-security -g -fwrapv -O2 -shared -Wl,-O1 -Wl,-Bsymbolic-functions -Wl,-Bsymbolic-functions -g -fwrapv -O2 build/temp.linux-x86_64-cpython-312/binding/bind_MinHash.o build/temp.linux-x86_64-cpython-312/binding/bind_SimHash.o build/temp.linux-x86_64-cpython-312/binding/bind_ihash.o build/temp.linux-x86_64-cpython-312/binding/bind_main.o build/temp.linux-x86_64-cpython-312/binding/bind_search.o build/temp.linux-x86_64-cpython-312/binding/bind_vectorRecord.o build/temp.linux-x86_64-cpython-312/source/ISearch.o build/temp.linux-x86_64-cpython-312/source/MinHash.o build/temp.linux-x86_64-cpython-312/source/MurmurHash3.o build/temp.linux-x86_64-cpython-312/source/SimHash.o -L/usr/lib/x86_64-linux-gnu -o build/lib.linux-x86_64-cpython-312/HSmodule.cpython-312-x86_64-linux-gnu.so\n",
            "copying build/lib.linux-x86_64-cpython-312/HSmodule.cpython-312-x86_64-linux-gnu.so -> \n"
          ]
        }
      ]
    },
    {
      "cell_type": "code",
      "source": [
        "import sys\n",
        "sys.path.append('/content/BTL-Extended-DSA')\n",
        "from HSmodule import *"
      ],
      "metadata": {
        "id": "q4instIJ3JJm"
      },
      "execution_count": 28,
      "outputs": []
    },
    {
      "cell_type": "code",
      "source": [
        "vec1 = [1,2,3,4,5]\n",
        "vec2 = [1.1, 2.2, 3, 4, 5]\n",
        "vec3 = [-1, 2, 3, 4, 5]\n",
        "vecRecord1 = VectorRecord(id=5, vec = vec1 )\n",
        "vecRecord2 = VectorRecord(id=5, vec = vec2 )\n",
        "vecRecord3 = VectorRecord(id=5, vec = vec3 )"
      ],
      "metadata": {
        "id": "IP_SCPgy3Nti"
      },
      "execution_count": 29,
      "outputs": []
    },
    {
      "cell_type": "code",
      "source": [
        "simHasher = SimHash(InputDim = 5, OutputDim = 7)\n",
        "ans = simHasher.hash([vecRecord1, vecRecord2, vecRecord3])\n",
        "print(ans)"
      ],
      "metadata": {
        "colab": {
          "base_uri": "https://localhost:8080/"
        },
        "id": "UaR4oEjm4_0q",
        "outputId": "508b2ccf-ac0d-4a1d-a83c-a7895b39c988"
      },
      "execution_count": 30,
      "outputs": [
        {
          "output_type": "stream",
          "name": "stdout",
          "text": [
            "[<HSmodule.VectorRecord object at 0x78196be61670>, <HSmodule.VectorRecord object at 0x78196be63f70>, <HSmodule.VectorRecord object at 0x78196be60eb0>]\n"
          ]
        }
      ]
    }
  ]
}