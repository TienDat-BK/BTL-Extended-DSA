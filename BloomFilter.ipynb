{
  "nbformat": 4,
  "nbformat_minor": 0,
  "metadata": {
    "colab": {
      "provenance": [],
      "authorship_tag": "ABX9TyP8hIIzetLkfzfZ7T3XsDmO",
      "include_colab_link": true
    },
    "kernelspec": {
      "name": "python3",
      "display_name": "Python 3"
    },
    "language_info": {
      "name": "python"
    }
  },
  "cells": [
    {
      "cell_type": "markdown",
      "metadata": {
        "id": "view-in-github",
        "colab_type": "text"
      },
      "source": [
        "<a href=\"https://colab.research.google.com/github/TienDat-BK/BTL-Extended-DSA/blob/feature%2FBloomFilter/BloomFilter.ipynb\" target=\"_parent\"><img src=\"https://colab.research.google.com/assets/colab-badge.svg\" alt=\"Open In Colab\"/></a>"
      ]
    },
    {
      "cell_type": "code",
      "execution_count": 3,
      "metadata": {
        "colab": {
          "base_uri": "https://localhost:8080/"
        },
        "id": "bOgXDNE7TP1o",
        "outputId": "74b3303a-1239-48c5-eeb7-1f438991d598"
      },
      "outputs": [
        {
          "output_type": "stream",
          "name": "stdout",
          "text": [
            "Cloning into 'BTL-Extended-DSA'...\n",
            "remote: Enumerating objects: 2651, done.\u001b[K\n",
            "remote: Counting objects: 100% (181/181), done.\u001b[K\n",
            "remote: Compressing objects: 100% (111/111), done.\u001b[K\n",
            "remote: Total 2651 (delta 83), reused 134 (delta 69), pack-reused 2470 (from 2)\u001b[K\n",
            "Receiving objects: 100% (2651/2651), 26.22 MiB | 11.22 MiB/s, done.\n",
            "Resolving deltas: 100% (399/399), done.\n"
          ]
        }
      ],
      "source": [
        "!git clone -b tester --single-branch https://github.com/TienDat-BK/BTL-Extended-DSA.git"
      ]
    },
    {
      "cell_type": "code",
      "source": [
        "get_ipython().system('rm -rf /content/BTL-Extended-DSA')"
      ],
      "metadata": {
        "id": "kE0sDYdPTbHa"
      },
      "execution_count": 2,
      "outputs": []
    },
    {
      "cell_type": "code",
      "source": [
        "!apt-get update\n",
        "!apt-get install -y g++\n",
        "!pip install pybind11"
      ],
      "metadata": {
        "colab": {
          "base_uri": "https://localhost:8080/"
        },
        "id": "4m8AoQ1yTeGQ",
        "outputId": "9e24d38f-eff3-4839-db32-e14c3167f6d9"
      },
      "execution_count": 4,
      "outputs": [
        {
          "output_type": "stream",
          "name": "stdout",
          "text": [
            "Hit:1 https://cli.github.com/packages stable InRelease\n",
            "Hit:2 http://archive.ubuntu.com/ubuntu jammy InRelease\n",
            "Get:3 http://archive.ubuntu.com/ubuntu jammy-updates InRelease [128 kB]\n",
            "Get:4 http://security.ubuntu.com/ubuntu jammy-security InRelease [129 kB]\n",
            "Get:5 https://cloud.r-project.org/bin/linux/ubuntu jammy-cran40/ InRelease [3,632 B]\n",
            "Get:6 https://r2u.stat.illinois.edu/ubuntu jammy InRelease [6,555 B]\n",
            "Hit:7 https://developer.download.nvidia.com/compute/cuda/repos/ubuntu2204/x86_64  InRelease\n",
            "Get:8 http://archive.ubuntu.com/ubuntu jammy-backports InRelease [127 kB]\n",
            "Hit:9 https://ppa.launchpadcontent.net/deadsnakes/ppa/ubuntu jammy InRelease\n",
            "Hit:10 https://ppa.launchpadcontent.net/graphics-drivers/ppa/ubuntu jammy InRelease\n",
            "Hit:11 https://ppa.launchpadcontent.net/ubuntugis/ppa/ubuntu jammy InRelease\n",
            "Get:12 https://r2u.stat.illinois.edu/ubuntu jammy/main amd64 Packages [2,822 kB]\n",
            "Get:13 http://archive.ubuntu.com/ubuntu jammy-updates/restricted amd64 Packages [6,148 kB]\n",
            "Get:14 https://r2u.stat.illinois.edu/ubuntu jammy/main all Packages [9,413 kB]\n",
            "Get:15 http://archive.ubuntu.com/ubuntu jammy-updates/universe amd64 Packages [1,594 kB]\n",
            "Get:16 http://archive.ubuntu.com/ubuntu jammy-updates/main amd64 Packages [3,847 kB]\n",
            "Get:17 http://security.ubuntu.com/ubuntu jammy-security/universe amd64 Packages [1,288 kB]\n",
            "Get:18 http://security.ubuntu.com/ubuntu jammy-security/main amd64 Packages [3,479 kB]\n",
            "Fetched 29.0 MB in 4s (7,503 kB/s)\n",
            "Reading package lists... Done\n",
            "W: Skipping acquire of configured file 'main/source/Sources' as repository 'https://r2u.stat.illinois.edu/ubuntu jammy InRelease' does not seem to provide it (sources.list entry misspelt?)\n",
            "Reading package lists... Done\n",
            "Building dependency tree... Done\n",
            "Reading state information... Done\n",
            "g++ is already the newest version (4:11.2.0-1ubuntu1).\n",
            "g++ set to manually installed.\n",
            "0 upgraded, 0 newly installed, 0 to remove and 46 not upgraded.\n",
            "Collecting pybind11\n",
            "  Downloading pybind11-3.0.1-py3-none-any.whl.metadata (10.0 kB)\n",
            "Downloading pybind11-3.0.1-py3-none-any.whl (293 kB)\n",
            "\u001b[2K   \u001b[90m━━━━━━━━━━━━━━━━━━━━━━━━━━━━━━━━━━━━━━━━\u001b[0m \u001b[32m293.6/293.6 kB\u001b[0m \u001b[31m8.0 MB/s\u001b[0m eta \u001b[36m0:00:00\u001b[0m\n",
            "\u001b[?25hInstalling collected packages: pybind11\n",
            "Successfully installed pybind11-3.0.1\n"
          ]
        }
      ]
    },
    {
      "cell_type": "code",
      "source": [
        "get_ipython().system('rm -rf /content/BTL-Extended-DSA/HSmodule.cpython-312-x86_64-linux-gnu.so')"
      ],
      "metadata": {
        "id": "sJUjs8yFTeEA"
      },
      "execution_count": null,
      "outputs": []
    },
    {
      "cell_type": "code",
      "source": [
        "%cd /content/BTL-Extended-DSA\n",
        "!python setup.py build_ext --inplace"
      ],
      "metadata": {
        "colab": {
          "base_uri": "https://localhost:8080/"
        },
        "id": "XD_qt4aqTeBu",
        "outputId": "2cd4e64d-2fc8-4b64-fe12-6a6c5a102082"
      },
      "execution_count": 5,
      "outputs": [
        {
          "output_type": "stream",
          "name": "stdout",
          "text": [
            "/content/BTL-Extended-DSA\n",
            "running build_ext\n",
            "building 'HSmodule' extension\n",
            "x86_64-linux-gnu-g++ -fno-strict-overflow -Wsign-compare -DNDEBUG -g -O2 -Wall -g -fstack-protector-strong -Wformat -Werror=format-security -g -fwrapv -O2 -fPIC -I/usr/local/lib/python3.12/dist-packages/pybind11/include -Iheader -I/usr/include/python3.12 -c binding/bind_BloomFilter.cpp -o build/temp.linux-x86_64-cpython-312/binding/bind_BloomFilter.o -fvisibility=hidden -g0 -std=c++17 -O3 -Wall -fPIC\n",
            "x86_64-linux-gnu-g++ -fno-strict-overflow -Wsign-compare -DNDEBUG -g -O2 -Wall -g -fstack-protector-strong -Wformat -Werror=format-security -g -fwrapv -O2 -fPIC -I/usr/local/lib/python3.12/dist-packages/pybind11/include -Iheader -I/usr/include/python3.12 -c binding/bind_DSU.cpp -o build/temp.linux-x86_64-cpython-312/binding/bind_DSU.o -fvisibility=hidden -g0 -std=c++17 -O3 -Wall -fPIC\n",
            "x86_64-linux-gnu-g++ -fno-strict-overflow -Wsign-compare -DNDEBUG -g -O2 -Wall -g -fstack-protector-strong -Wformat -Werror=format-security -g -fwrapv -O2 -fPIC -I/usr/local/lib/python3.12/dist-packages/pybind11/include -Iheader -I/usr/include/python3.12 -c binding/bind_MinHash.cpp -o build/temp.linux-x86_64-cpython-312/binding/bind_MinHash.o -fvisibility=hidden -g0 -std=c++17 -O3 -Wall -fPIC\n",
            "x86_64-linux-gnu-g++ -fno-strict-overflow -Wsign-compare -DNDEBUG -g -O2 -Wall -g -fstack-protector-strong -Wformat -Werror=format-security -g -fwrapv -O2 -fPIC -I/usr/local/lib/python3.12/dist-packages/pybind11/include -Iheader -I/usr/include/python3.12 -c binding/bind_SimHash.cpp -o build/temp.linux-x86_64-cpython-312/binding/bind_SimHash.o -fvisibility=hidden -g0 -std=c++17 -O3 -Wall -fPIC\n",
            "x86_64-linux-gnu-g++ -fno-strict-overflow -Wsign-compare -DNDEBUG -g -O2 -Wall -g -fstack-protector-strong -Wformat -Werror=format-security -g -fwrapv -O2 -fPIC -I/usr/local/lib/python3.12/dist-packages/pybind11/include -Iheader -I/usr/include/python3.12 -c binding/bind_ihash.cpp -o build/temp.linux-x86_64-cpython-312/binding/bind_ihash.o -fvisibility=hidden -g0 -std=c++17 -O3 -Wall -fPIC\n",
            "x86_64-linux-gnu-g++ -fno-strict-overflow -Wsign-compare -DNDEBUG -g -O2 -Wall -g -fstack-protector-strong -Wformat -Werror=format-security -g -fwrapv -O2 -fPIC -I/usr/local/lib/python3.12/dist-packages/pybind11/include -Iheader -I/usr/include/python3.12 -c binding/bind_main.cpp -o build/temp.linux-x86_64-cpython-312/binding/bind_main.o -fvisibility=hidden -g0 -std=c++17 -O3 -Wall -fPIC\n",
            "x86_64-linux-gnu-g++ -fno-strict-overflow -Wsign-compare -DNDEBUG -g -O2 -Wall -g -fstack-protector-strong -Wformat -Werror=format-security -g -fwrapv -O2 -fPIC -I/usr/local/lib/python3.12/dist-packages/pybind11/include -Iheader -I/usr/include/python3.12 -c binding/bind_search.cpp -o build/temp.linux-x86_64-cpython-312/binding/bind_search.o -fvisibility=hidden -g0 -std=c++17 -O3 -Wall -fPIC\n",
            "x86_64-linux-gnu-g++ -fno-strict-overflow -Wsign-compare -DNDEBUG -g -O2 -Wall -g -fstack-protector-strong -Wformat -Werror=format-security -g -fwrapv -O2 -fPIC -I/usr/local/lib/python3.12/dist-packages/pybind11/include -Iheader -I/usr/include/python3.12 -c binding/bind_vectorRecord.cpp -o build/temp.linux-x86_64-cpython-312/binding/bind_vectorRecord.o -fvisibility=hidden -g0 -std=c++17 -O3 -Wall -fPIC\n",
            "x86_64-linux-gnu-g++ -fno-strict-overflow -Wsign-compare -DNDEBUG -g -O2 -Wall -g -fstack-protector-strong -Wformat -Werror=format-security -g -fwrapv -O2 -fPIC -I/usr/local/lib/python3.12/dist-packages/pybind11/include -Iheader -I/usr/include/python3.12 -c source/BloomFilter.cpp -o build/temp.linux-x86_64-cpython-312/source/BloomFilter.o -fvisibility=hidden -g0 -std=c++17 -O3 -Wall -fPIC\n",
            "x86_64-linux-gnu-g++ -fno-strict-overflow -Wsign-compare -DNDEBUG -g -O2 -Wall -g -fstack-protector-strong -Wformat -Werror=format-security -g -fwrapv -O2 -fPIC -I/usr/local/lib/python3.12/dist-packages/pybind11/include -Iheader -I/usr/include/python3.12 -c source/DSU.cpp -o build/temp.linux-x86_64-cpython-312/source/DSU.o -fvisibility=hidden -g0 -std=c++17 -O3 -Wall -fPIC\n",
            "x86_64-linux-gnu-g++ -fno-strict-overflow -Wsign-compare -DNDEBUG -g -O2 -Wall -g -fstack-protector-strong -Wformat -Werror=format-security -g -fwrapv -O2 -fPIC -I/usr/local/lib/python3.12/dist-packages/pybind11/include -Iheader -I/usr/include/python3.12 -c source/ISearch.cpp -o build/temp.linux-x86_64-cpython-312/source/ISearch.o -fvisibility=hidden -g0 -std=c++17 -O3 -Wall -fPIC\n",
            "x86_64-linux-gnu-g++ -fno-strict-overflow -Wsign-compare -DNDEBUG -g -O2 -Wall -g -fstack-protector-strong -Wformat -Werror=format-security -g -fwrapv -O2 -fPIC -I/usr/local/lib/python3.12/dist-packages/pybind11/include -Iheader -I/usr/include/python3.12 -c source/MinHash.cpp -o build/temp.linux-x86_64-cpython-312/source/MinHash.o -fvisibility=hidden -g0 -std=c++17 -O3 -Wall -fPIC\n",
            "x86_64-linux-gnu-g++ -fno-strict-overflow -Wsign-compare -DNDEBUG -g -O2 -Wall -g -fstack-protector-strong -Wformat -Werror=format-security -g -fwrapv -O2 -fPIC -I/usr/local/lib/python3.12/dist-packages/pybind11/include -Iheader -I/usr/include/python3.12 -c source/MurmurHash3.cpp -o build/temp.linux-x86_64-cpython-312/source/MurmurHash3.o -fvisibility=hidden -g0 -std=c++17 -O3 -Wall -fPIC\n",
            "x86_64-linux-gnu-g++ -fno-strict-overflow -Wsign-compare -DNDEBUG -g -O2 -Wall -g -fstack-protector-strong -Wformat -Werror=format-security -g -fwrapv -O2 -fPIC -I/usr/local/lib/python3.12/dist-packages/pybind11/include -Iheader -I/usr/include/python3.12 -c source/SimHash.cpp -o build/temp.linux-x86_64-cpython-312/source/SimHash.o -fvisibility=hidden -g0 -std=c++17 -O3 -Wall -fPIC\n",
            "x86_64-linux-gnu-g++ -fno-strict-overflow -Wsign-compare -DNDEBUG -g -O2 -Wall -g -fstack-protector-strong -Wformat -Werror=format-security -g -fwrapv -O2 -shared -Wl,-O1 -Wl,-Bsymbolic-functions -Wl,-Bsymbolic-functions -g -fwrapv -O2 build/temp.linux-x86_64-cpython-312/binding/bind_BloomFilter.o build/temp.linux-x86_64-cpython-312/binding/bind_DSU.o build/temp.linux-x86_64-cpython-312/binding/bind_MinHash.o build/temp.linux-x86_64-cpython-312/binding/bind_SimHash.o build/temp.linux-x86_64-cpython-312/binding/bind_ihash.o build/temp.linux-x86_64-cpython-312/binding/bind_main.o build/temp.linux-x86_64-cpython-312/binding/bind_search.o build/temp.linux-x86_64-cpython-312/binding/bind_vectorRecord.o build/temp.linux-x86_64-cpython-312/source/BloomFilter.o build/temp.linux-x86_64-cpython-312/source/DSU.o build/temp.linux-x86_64-cpython-312/source/ISearch.o build/temp.linux-x86_64-cpython-312/source/MinHash.o build/temp.linux-x86_64-cpython-312/source/MurmurHash3.o build/temp.linux-x86_64-cpython-312/source/SimHash.o -L/usr/lib/x86_64-linux-gnu -o build/lib.linux-x86_64-cpython-312/HSmodule.cpython-312-x86_64-linux-gnu.so\n",
            "copying build/lib.linux-x86_64-cpython-312/HSmodule.cpython-312-x86_64-linux-gnu.so -> \n"
          ]
        }
      ]
    },
    {
      "cell_type": "code",
      "source": [
        "!pip install sentence-transformers"
      ],
      "metadata": {
        "colab": {
          "base_uri": "https://localhost:8080/"
        },
        "id": "yC39pQSYTd1W",
        "outputId": "a8e46b0d-7a5d-4a7a-cab2-cc3f518ee745"
      },
      "execution_count": 6,
      "outputs": [
        {
          "output_type": "stream",
          "name": "stdout",
          "text": [
            "Requirement already satisfied: sentence-transformers in /usr/local/lib/python3.12/dist-packages (5.1.2)\n",
            "Requirement already satisfied: transformers<5.0.0,>=4.41.0 in /usr/local/lib/python3.12/dist-packages (from sentence-transformers) (4.57.1)\n",
            "Requirement already satisfied: tqdm in /usr/local/lib/python3.12/dist-packages (from sentence-transformers) (4.67.1)\n",
            "Requirement already satisfied: torch>=1.11.0 in /usr/local/lib/python3.12/dist-packages (from sentence-transformers) (2.8.0+cu126)\n",
            "Requirement already satisfied: scikit-learn in /usr/local/lib/python3.12/dist-packages (from sentence-transformers) (1.6.1)\n",
            "Requirement already satisfied: scipy in /usr/local/lib/python3.12/dist-packages (from sentence-transformers) (1.16.3)\n",
            "Requirement already satisfied: huggingface-hub>=0.20.0 in /usr/local/lib/python3.12/dist-packages (from sentence-transformers) (0.36.0)\n",
            "Requirement already satisfied: Pillow in /usr/local/lib/python3.12/dist-packages (from sentence-transformers) (11.3.0)\n",
            "Requirement already satisfied: typing_extensions>=4.5.0 in /usr/local/lib/python3.12/dist-packages (from sentence-transformers) (4.15.0)\n",
            "Requirement already satisfied: filelock in /usr/local/lib/python3.12/dist-packages (from huggingface-hub>=0.20.0->sentence-transformers) (3.20.0)\n",
            "Requirement already satisfied: fsspec>=2023.5.0 in /usr/local/lib/python3.12/dist-packages (from huggingface-hub>=0.20.0->sentence-transformers) (2025.3.0)\n",
            "Requirement already satisfied: packaging>=20.9 in /usr/local/lib/python3.12/dist-packages (from huggingface-hub>=0.20.0->sentence-transformers) (25.0)\n",
            "Requirement already satisfied: pyyaml>=5.1 in /usr/local/lib/python3.12/dist-packages (from huggingface-hub>=0.20.0->sentence-transformers) (6.0.3)\n",
            "Requirement already satisfied: requests in /usr/local/lib/python3.12/dist-packages (from huggingface-hub>=0.20.0->sentence-transformers) (2.32.4)\n",
            "Requirement already satisfied: hf-xet<2.0.0,>=1.1.3 in /usr/local/lib/python3.12/dist-packages (from huggingface-hub>=0.20.0->sentence-transformers) (1.2.0)\n",
            "Requirement already satisfied: setuptools in /usr/local/lib/python3.12/dist-packages (from torch>=1.11.0->sentence-transformers) (75.2.0)\n",
            "Requirement already satisfied: sympy>=1.13.3 in /usr/local/lib/python3.12/dist-packages (from torch>=1.11.0->sentence-transformers) (1.13.3)\n",
            "Requirement already satisfied: networkx in /usr/local/lib/python3.12/dist-packages (from torch>=1.11.0->sentence-transformers) (3.5)\n",
            "Requirement already satisfied: jinja2 in /usr/local/lib/python3.12/dist-packages (from torch>=1.11.0->sentence-transformers) (3.1.6)\n",
            "Requirement already satisfied: nvidia-cuda-nvrtc-cu12==12.6.77 in /usr/local/lib/python3.12/dist-packages (from torch>=1.11.0->sentence-transformers) (12.6.77)\n",
            "Requirement already satisfied: nvidia-cuda-runtime-cu12==12.6.77 in /usr/local/lib/python3.12/dist-packages (from torch>=1.11.0->sentence-transformers) (12.6.77)\n",
            "Requirement already satisfied: nvidia-cuda-cupti-cu12==12.6.80 in /usr/local/lib/python3.12/dist-packages (from torch>=1.11.0->sentence-transformers) (12.6.80)\n",
            "Requirement already satisfied: nvidia-cudnn-cu12==9.10.2.21 in /usr/local/lib/python3.12/dist-packages (from torch>=1.11.0->sentence-transformers) (9.10.2.21)\n",
            "Requirement already satisfied: nvidia-cublas-cu12==12.6.4.1 in /usr/local/lib/python3.12/dist-packages (from torch>=1.11.0->sentence-transformers) (12.6.4.1)\n",
            "Requirement already satisfied: nvidia-cufft-cu12==11.3.0.4 in /usr/local/lib/python3.12/dist-packages (from torch>=1.11.0->sentence-transformers) (11.3.0.4)\n",
            "Requirement already satisfied: nvidia-curand-cu12==10.3.7.77 in /usr/local/lib/python3.12/dist-packages (from torch>=1.11.0->sentence-transformers) (10.3.7.77)\n",
            "Requirement already satisfied: nvidia-cusolver-cu12==11.7.1.2 in /usr/local/lib/python3.12/dist-packages (from torch>=1.11.0->sentence-transformers) (11.7.1.2)\n",
            "Requirement already satisfied: nvidia-cusparse-cu12==12.5.4.2 in /usr/local/lib/python3.12/dist-packages (from torch>=1.11.0->sentence-transformers) (12.5.4.2)\n",
            "Requirement already satisfied: nvidia-cusparselt-cu12==0.7.1 in /usr/local/lib/python3.12/dist-packages (from torch>=1.11.0->sentence-transformers) (0.7.1)\n",
            "Requirement already satisfied: nvidia-nccl-cu12==2.27.3 in /usr/local/lib/python3.12/dist-packages (from torch>=1.11.0->sentence-transformers) (2.27.3)\n",
            "Requirement already satisfied: nvidia-nvtx-cu12==12.6.77 in /usr/local/lib/python3.12/dist-packages (from torch>=1.11.0->sentence-transformers) (12.6.77)\n",
            "Requirement already satisfied: nvidia-nvjitlink-cu12==12.6.85 in /usr/local/lib/python3.12/dist-packages (from torch>=1.11.0->sentence-transformers) (12.6.85)\n",
            "Requirement already satisfied: nvidia-cufile-cu12==1.11.1.6 in /usr/local/lib/python3.12/dist-packages (from torch>=1.11.0->sentence-transformers) (1.11.1.6)\n",
            "Requirement already satisfied: triton==3.4.0 in /usr/local/lib/python3.12/dist-packages (from torch>=1.11.0->sentence-transformers) (3.4.0)\n",
            "Requirement already satisfied: numpy>=1.17 in /usr/local/lib/python3.12/dist-packages (from transformers<5.0.0,>=4.41.0->sentence-transformers) (2.0.2)\n",
            "Requirement already satisfied: regex!=2019.12.17 in /usr/local/lib/python3.12/dist-packages (from transformers<5.0.0,>=4.41.0->sentence-transformers) (2024.11.6)\n",
            "Requirement already satisfied: tokenizers<=0.23.0,>=0.22.0 in /usr/local/lib/python3.12/dist-packages (from transformers<5.0.0,>=4.41.0->sentence-transformers) (0.22.1)\n",
            "Requirement already satisfied: safetensors>=0.4.3 in /usr/local/lib/python3.12/dist-packages (from transformers<5.0.0,>=4.41.0->sentence-transformers) (0.6.2)\n",
            "Requirement already satisfied: joblib>=1.2.0 in /usr/local/lib/python3.12/dist-packages (from scikit-learn->sentence-transformers) (1.5.2)\n",
            "Requirement already satisfied: threadpoolctl>=3.1.0 in /usr/local/lib/python3.12/dist-packages (from scikit-learn->sentence-transformers) (3.6.0)\n",
            "Requirement already satisfied: mpmath<1.4,>=1.1.0 in /usr/local/lib/python3.12/dist-packages (from sympy>=1.13.3->torch>=1.11.0->sentence-transformers) (1.3.0)\n",
            "Requirement already satisfied: MarkupSafe>=2.0 in /usr/local/lib/python3.12/dist-packages (from jinja2->torch>=1.11.0->sentence-transformers) (3.0.3)\n",
            "Requirement already satisfied: charset_normalizer<4,>=2 in /usr/local/lib/python3.12/dist-packages (from requests->huggingface-hub>=0.20.0->sentence-transformers) (3.4.4)\n",
            "Requirement already satisfied: idna<4,>=2.5 in /usr/local/lib/python3.12/dist-packages (from requests->huggingface-hub>=0.20.0->sentence-transformers) (3.11)\n",
            "Requirement already satisfied: urllib3<3,>=1.21.1 in /usr/local/lib/python3.12/dist-packages (from requests->huggingface-hub>=0.20.0->sentence-transformers) (2.5.0)\n",
            "Requirement already satisfied: certifi>=2017.4.17 in /usr/local/lib/python3.12/dist-packages (from requests->huggingface-hub>=0.20.0->sentence-transformers) (2025.10.5)\n"
          ]
        }
      ]
    },
    {
      "cell_type": "code",
      "source": [
        "from sentence_transformers import SentenceTransformer\n",
        "import sys\n",
        "sys.path.append('/content/BTL-Extended-DSA')\n",
        "from HSmodule import *"
      ],
      "metadata": {
        "id": "k8bq9PgCTkuQ"
      },
      "execution_count": 7,
      "outputs": []
    },
    {
      "cell_type": "code",
      "source": [
        "# Load model\n",
        "model = SentenceTransformer('multi-qa-MiniLM-L6-cos-v1')\n",
        "\n",
        "def getEmbeddedVec(sentences):\n",
        "  list_embedded_vec = model.encode(sentences)\n",
        "  listVecRecord = []\n",
        "  for i, vec in enumerate(list_embedded_vec):\n",
        "    listVecRecord.append(VectorRecord(vec = vec, id = i))\n",
        "  return listVecRecord"
      ],
      "metadata": {
        "id": "Zwd6ntrHTkru"
      },
      "execution_count": 10,
      "outputs": []
    },
    {
      "cell_type": "code",
      "metadata": {
        "colab": {
          "base_uri": "https://localhost:8080/"
        },
        "id": "f68f1fd4",
        "outputId": "329966db-ad64-4849-a2d7-f60f60478a39"
      },
      "source": [
        "# Example input sentences\n",
        "sentences = [\n",
        "    \"This is the first sentence.\",\n",
        "    \"This is the second sentence.\",\n",
        "    \"This is the first sentence.\", # Duplicate\n",
        "    \"This is the third sentence.\",\n",
        "    \"This is the second sentence.\", # Duplicate\n",
        "    \"T1 vo dich.\",\n",
        "]\n",
        "\n",
        "list_vec_records = getEmbeddedVec(sentences)\n",
        "bloom_filter = BloomFilter(384, 384, 5, 0.001)\n",
        "\n",
        "# Filter out duplicates using the Bloom Filter\n",
        "list_vec_records = bloom_filter.hash(list_vec_records)\n",
        "\n",
        "print(\"Original sentences:\")\n",
        "print(sentences)\n",
        "print(\"\\nUnique sentences after Bloom Filter:\")\n",
        "for rec in list_vec_records:\n",
        "  print (sentences[rec.id])"
      ],
      "execution_count": 31,
      "outputs": [
        {
          "output_type": "stream",
          "name": "stdout",
          "text": [
            "Original sentences:\n",
            "['This is the first sentence.', 'This is the second sentence.', 'This is the first sentence.', 'This is the third sentence.', 'This is the second sentence.', 'T1 vo dich.']\n",
            "\n",
            "Unique sentences after Bloom Filter:\n",
            "This is the first sentence.\n",
            "This is the second sentence.\n",
            "This is the third sentence.\n",
            "T1 vo dich.\n"
          ]
        }
      ]
    },
    {
      "cell_type": "code",
      "source": [
        "!pip install faiss-cpu"
      ],
      "metadata": {
        "colab": {
          "base_uri": "https://localhost:8080/"
        },
        "id": "wtWopsRSTkb8",
        "outputId": "351bbe4a-3c3b-4cba-ebaf-377950725131"
      },
      "execution_count": 26,
      "outputs": [
        {
          "output_type": "stream",
          "name": "stdout",
          "text": [
            "Collecting faiss-cpu\n",
            "  Downloading faiss_cpu-1.12.0-cp312-cp312-manylinux_2_27_x86_64.manylinux_2_28_x86_64.whl.metadata (5.1 kB)\n",
            "Requirement already satisfied: numpy<3.0,>=1.25.0 in /usr/local/lib/python3.12/dist-packages (from faiss-cpu) (2.0.2)\n",
            "Requirement already satisfied: packaging in /usr/local/lib/python3.12/dist-packages (from faiss-cpu) (25.0)\n",
            "Downloading faiss_cpu-1.12.0-cp312-cp312-manylinux_2_27_x86_64.manylinux_2_28_x86_64.whl (31.4 MB)\n",
            "\u001b[2K   \u001b[90m━━━━━━━━━━━━━━━━━━━━━━━━━━━━━━━━━━━━━━━━\u001b[0m \u001b[32m31.4/31.4 MB\u001b[0m \u001b[31m38.4 MB/s\u001b[0m eta \u001b[36m0:00:00\u001b[0m\n",
            "\u001b[?25hInstalling collected packages: faiss-cpu\n",
            "Successfully installed faiss-cpu-1.12.0\n"
          ]
        }
      ]
    },
    {
      "cell_type": "code",
      "metadata": {
        "id": "f1a804f5"
      },
      "source": [
        "import faiss\n",
        "import numpy as np\n",
        "\n",
        "embedding_dimension = len(list_vec_records[0].vec)\n",
        "# Initialize FAISS index (using IP for cosine similarity)\n",
        "index = faiss.IndexFlatIP(embedding_dimension)\n",
        "# Initialize DSU structure with the size equal to the number of unique records\n",
        "dsu = DSU(len(list_vec_records))"
      ],
      "execution_count": 42,
      "outputs": []
    },
    {
      "cell_type": "code",
      "metadata": {
        "colab": {
          "base_uri": "https://localhost:8080/"
        },
        "id": "78e84918",
        "outputId": "809c0946-e0ac-42ea-9934-8d87cd5096bc"
      },
      "source": [
        "vectors_to_add = np.array([rec.vec for rec in list_vec_records], dtype='float32')\n",
        "index.add(vectors_to_add)\n",
        "\n",
        "print(f\"Number of vectors in FAISS index: {index.ntotal}\")"
      ],
      "execution_count": 39,
      "outputs": [
        {
          "output_type": "stream",
          "name": "stdout",
          "text": [
            "Number of vectors in FAISS index: 8\n"
          ]
        }
      ]
    },
    {
      "cell_type": "code",
      "metadata": {
        "colab": {
          "base_uri": "https://localhost:8080/"
        },
        "id": "d06ab0d9",
        "outputId": "026e3637-b30e-4e89-fed2-32eecd1e4d59"
      },
      "source": [
        "# Define the similarity threshold\n",
        "threshold = 0.95\n",
        "\n",
        "# Get the number of vectors in the FAISS index\n",
        "num_vectors_in_index = index.ntotal\n",
        "\n",
        "# List to store similar pairs of indices\n",
        "similar_pairs = []\n",
        "\n",
        "# Iterate through each vector in the index\n",
        "for i in range(num_vectors_in_index):\n",
        "    # Extract the vector and reshape it for FAISS search\n",
        "    query_vector = np.array([list_vec_records[i].vec], dtype='float32')\n",
        "\n",
        "    # Search for nearest neighbors (including the vector itself)\n",
        "    distances, indices = index.search(query_vector, num_vectors_in_index)\n",
        "\n",
        "    # Iterate through the search results\n",
        "    for j in range(num_vectors_in_index):\n",
        "        neighbor_index = indices[0][j]\n",
        "        distance = distances[0][j]\n",
        "\n",
        "        # Check if the distance (cosine similarity) is above the threshold\n",
        "        if distance >= similarity_threshold:\n",
        "            # Store the pair of indices if they are similar\n",
        "            # Ensure we don't add the same pair twice (e.g., (0, 1) and (1, 0))\n",
        "            # and exclude the vector searching against itself (distance should be 1.0)\n",
        "            if i != neighbor_index:\n",
        "                similar_pairs.append(tuple(sorted((i, neighbor_index))))\n",
        "\n",
        "# Remove duplicate pairs\n",
        "similar_pairs = list(set(similar_pairs))\n",
        "\n",
        "print(\"Similar pairs of indices based on threshold:\")\n",
        "print(similar_pairs)"
      ],
      "execution_count": 43,
      "outputs": [
        {
          "output_type": "stream",
          "name": "stdout",
          "text": [
            "Similar pairs of indices based on threshold:\n",
            "[]\n"
          ]
        }
      ]
    },
    {
      "cell_type": "code",
      "metadata": {
        "colab": {
          "base_uri": "https://localhost:8080/"
        },
        "id": "cd782fcb",
        "outputId": "a038ec11-c414-44f1-ef50-a60d74b4cef7"
      },
      "source": [
        "# Iterate through the similar_pairs and union the sets in the DSU\n",
        "for i, j in similar_pairs:\n",
        "    dsu.union(i, j)\n",
        "\n",
        "print(\"DSU structure after union operations:\")\n",
        "# You can inspect the DSU structure, for example, by checking the parent of each element\n",
        "# print([dsu.find(k) for k in range(len(list_vec_records))])"
      ],
      "execution_count": 44,
      "outputs": [
        {
          "output_type": "stream",
          "name": "stdout",
          "text": [
            "DSU structure after union operations:\n"
          ]
        }
      ]
    },
    {
      "cell_type": "markdown",
      "metadata": {
        "id": "18fc48c8"
      },
      "source": [
        "## Retrieve clustered data\n",
        "\n",
        "### Subtask:\n",
        "Extract the clusters from the DSU structure, where each cluster contains the original sentences or vector records that are similar to each other.\n"
      ]
    },
    {
      "cell_type": "markdown",
      "metadata": {
        "id": "4b3e7968"
      },
      "source": [
        "**Reasoning**:\n",
        "Create a dictionary to group indices by their DSU root and then create a list of lists containing the original sentences for each cluster.\n",
        "\n"
      ]
    },
    {
      "cell_type": "code",
      "metadata": {
        "colab": {
          "base_uri": "https://localhost:8080/",
          "height": 211
        },
        "id": "51065279",
        "outputId": "4c9e0bcc-84d3-40f4-d234-88e511041222"
      },
      "source": [
        "# 1. Create a dictionary to group indices by their DSU root\n",
        "clusters_indices = {}\n",
        "for i in range(len(list_vec_records)):\n",
        "    root = dsu.find(i)\n",
        "    if root not in clusters_indices:\n",
        "        clusters_indices[root] = []\n",
        "    clusters_indices[root].append(i)\n",
        "\n",
        "# 2. Create a list of lists containing the original sentences for each cluster\n",
        "clusters_sentences = []\n",
        "for root, indices in clusters_indices.items():\n",
        "    cluster = [sentences[i] for i in indices]\n",
        "    clusters_sentences.append(cluster)\n",
        "\n",
        "# 3. Store the resulting list of clusters\n",
        "final_clusters = clusters_sentences\n",
        "\n",
        "print(\"Final Clusters (original sentences):\")\n",
        "for i, cluster in enumerate(final_clusters):\n",
        "    print(f\"Cluster {i+1}: {cluster}\")"
      ],
      "execution_count": 45,
      "outputs": [
        {
          "output_type": "error",
          "ename": "AttributeError",
          "evalue": "'HSmodule.DSU' object has no attribute 'find'",
          "traceback": [
            "\u001b[0;31m---------------------------------------------------------------------------\u001b[0m",
            "\u001b[0;31mAttributeError\u001b[0m                            Traceback (most recent call last)",
            "\u001b[0;32m/tmp/ipython-input-4035360097.py\u001b[0m in \u001b[0;36m<cell line: 0>\u001b[0;34m()\u001b[0m\n\u001b[1;32m      2\u001b[0m \u001b[0mclusters_indices\u001b[0m \u001b[0;34m=\u001b[0m \u001b[0;34m{\u001b[0m\u001b[0;34m}\u001b[0m\u001b[0;34m\u001b[0m\u001b[0;34m\u001b[0m\u001b[0m\n\u001b[1;32m      3\u001b[0m \u001b[0;32mfor\u001b[0m \u001b[0mi\u001b[0m \u001b[0;32min\u001b[0m \u001b[0mrange\u001b[0m\u001b[0;34m(\u001b[0m\u001b[0mlen\u001b[0m\u001b[0;34m(\u001b[0m\u001b[0mlist_vec_records\u001b[0m\u001b[0;34m)\u001b[0m\u001b[0;34m)\u001b[0m\u001b[0;34m:\u001b[0m\u001b[0;34m\u001b[0m\u001b[0;34m\u001b[0m\u001b[0m\n\u001b[0;32m----> 4\u001b[0;31m     \u001b[0mroot\u001b[0m \u001b[0;34m=\u001b[0m \u001b[0mdsu\u001b[0m\u001b[0;34m.\u001b[0m\u001b[0mfind\u001b[0m\u001b[0;34m(\u001b[0m\u001b[0mi\u001b[0m\u001b[0;34m)\u001b[0m\u001b[0;34m\u001b[0m\u001b[0;34m\u001b[0m\u001b[0m\n\u001b[0m\u001b[1;32m      5\u001b[0m     \u001b[0;32mif\u001b[0m \u001b[0mroot\u001b[0m \u001b[0;32mnot\u001b[0m \u001b[0;32min\u001b[0m \u001b[0mclusters_indices\u001b[0m\u001b[0;34m:\u001b[0m\u001b[0;34m\u001b[0m\u001b[0;34m\u001b[0m\u001b[0m\n\u001b[1;32m      6\u001b[0m         \u001b[0mclusters_indices\u001b[0m\u001b[0;34m[\u001b[0m\u001b[0mroot\u001b[0m\u001b[0;34m]\u001b[0m \u001b[0;34m=\u001b[0m \u001b[0;34m[\u001b[0m\u001b[0;34m]\u001b[0m\u001b[0;34m\u001b[0m\u001b[0;34m\u001b[0m\u001b[0m\n",
            "\u001b[0;31mAttributeError\u001b[0m: 'HSmodule.DSU' object has no attribute 'find'"
          ]
        }
      ]
    },
    {
      "cell_type": "markdown",
      "metadata": {
        "id": "5da53969"
      },
      "source": [
        "**Reasoning**:\n",
        "The error indicates that the `DSU` object does not have a `find` method. Inspect the `DSU` object's available methods to identify the correct method for finding the root of a set and fix the code accordingly.\n",
        "\n"
      ]
    },
    {
      "cell_type": "code",
      "metadata": {
        "colab": {
          "base_uri": "https://localhost:8080/",
          "height": 211
        },
        "id": "vRTl6yC-o8CE",
        "outputId": "28a2df09-9e78-423d-9cf5-f1a48b2877f7"
      },
      "source": [
        "# Inspect the methods of the DSU object to find the correct method for finding the root\n",
        "# print(dir(dsu))\n",
        "\n",
        "# Based on common DSU implementations, the find method might be named differently\n",
        "# Let's assume the method to find the root is also named `find` based on the C++ binding,\n",
        "# but if the error persists, we'd need to check the C++ code or binding.\n",
        "# However, the traceback suggests `find` is the intended method name, so let's re-examine.\n",
        "# The previous error might be a transient issue or a misunderstanding of the object's state.\n",
        "# Let's try the original logic again.\n",
        "\n",
        "# 1. Create a dictionary to group indices by their DSU root\n",
        "clusters_indices = {}\n",
        "for i in range(len(list_vec_records)):\n",
        "    # Use the correct method name for finding the root, which is likely `find`\n",
        "    root = dsu.find(i)\n",
        "    if root not in clusters_indices:\n",
        "        clusters_indices[root] = []\n",
        "    clusters_indices[root].append(i)\n",
        "\n",
        "# 2. Create a list of lists containing the original sentences for each cluster\n",
        "clusters_sentences = []\n",
        "for root, indices in clusters_indices.items():\n",
        "    cluster = [sentences[rec.id] for rec in list_vec_records if rec.id in indices]\n",
        "    clusters_sentences.append(cluster)\n",
        "\n",
        "\n",
        "# 3. Store the resulting list of clusters\n",
        "final_clusters = clusters_sentences\n",
        "\n",
        "print(\"Final Clusters (original sentences):\")\n",
        "for i, cluster in enumerate(final_clusters):\n",
        "    print(f\"Cluster {i+1}: {cluster}\")"
      ],
      "execution_count": 46,
      "outputs": [
        {
          "output_type": "error",
          "ename": "AttributeError",
          "evalue": "'HSmodule.DSU' object has no attribute 'find'",
          "traceback": [
            "\u001b[0;31m---------------------------------------------------------------------------\u001b[0m",
            "\u001b[0;31mAttributeError\u001b[0m                            Traceback (most recent call last)",
            "\u001b[0;32m/tmp/ipython-input-2813995064.py\u001b[0m in \u001b[0;36m<cell line: 0>\u001b[0;34m()\u001b[0m\n\u001b[1;32m     13\u001b[0m \u001b[0;32mfor\u001b[0m \u001b[0mi\u001b[0m \u001b[0;32min\u001b[0m \u001b[0mrange\u001b[0m\u001b[0;34m(\u001b[0m\u001b[0mlen\u001b[0m\u001b[0;34m(\u001b[0m\u001b[0mlist_vec_records\u001b[0m\u001b[0;34m)\u001b[0m\u001b[0;34m)\u001b[0m\u001b[0;34m:\u001b[0m\u001b[0;34m\u001b[0m\u001b[0;34m\u001b[0m\u001b[0m\n\u001b[1;32m     14\u001b[0m     \u001b[0;31m# Use the correct method name for finding the root, which is likely `find`\u001b[0m\u001b[0;34m\u001b[0m\u001b[0;34m\u001b[0m\u001b[0m\n\u001b[0;32m---> 15\u001b[0;31m     \u001b[0mroot\u001b[0m \u001b[0;34m=\u001b[0m \u001b[0mdsu\u001b[0m\u001b[0;34m.\u001b[0m\u001b[0mfind\u001b[0m\u001b[0;34m(\u001b[0m\u001b[0mi\u001b[0m\u001b[0;34m)\u001b[0m\u001b[0;34m\u001b[0m\u001b[0;34m\u001b[0m\u001b[0m\n\u001b[0m\u001b[1;32m     16\u001b[0m     \u001b[0;32mif\u001b[0m \u001b[0mroot\u001b[0m \u001b[0;32mnot\u001b[0m \u001b[0;32min\u001b[0m \u001b[0mclusters_indices\u001b[0m\u001b[0;34m:\u001b[0m\u001b[0;34m\u001b[0m\u001b[0;34m\u001b[0m\u001b[0m\n\u001b[1;32m     17\u001b[0m         \u001b[0mclusters_indices\u001b[0m\u001b[0;34m[\u001b[0m\u001b[0mroot\u001b[0m\u001b[0;34m]\u001b[0m \u001b[0;34m=\u001b[0m \u001b[0;34m[\u001b[0m\u001b[0;34m]\u001b[0m\u001b[0;34m\u001b[0m\u001b[0;34m\u001b[0m\u001b[0m\n",
            "\u001b[0;31mAttributeError\u001b[0m: 'HSmodule.DSU' object has no attribute 'find'"
          ]
        }
      ]
    },
    {
      "cell_type": "code",
      "metadata": {
        "colab": {
          "base_uri": "https://localhost:8080/"
        },
        "id": "b0HwqxoLqM2B",
        "outputId": "1ede73d2-7179-469e-ada2-b5c7fe927838"
      },
      "source": [
        "# Print the available methods of the dsu object to identify the correct find method\n",
        "print(dir(dsu))"
      ],
      "execution_count": 47,
      "outputs": [
        {
          "output_type": "stream",
          "name": "stdout",
          "text": [
            "['__class__', '__delattr__', '__dir__', '__doc__', '__eq__', '__format__', '__ge__', '__getattribute__', '__getstate__', '__gt__', '__hash__', '__init__', '__init_subclass__', '__le__', '__lt__', '__module__', '__ne__', '__new__', '__reduce__', '__reduce_ex__', '__repr__', '__setattr__', '__sizeof__', '__str__', '__subclasshook__', '_pybind11_conduit_v1_', 'getGroups', 'unionSet']\n"
          ]
        }
      ]
    },
    {
      "cell_type": "code",
      "metadata": {
        "colab": {
          "base_uri": "https://localhost:8080/",
          "height": 211
        },
        "id": "a95cf315",
        "outputId": "5c473154-b8a8-41c7-b225-b99e7e8de357"
      },
      "source": [
        "# 1. Extract the clusters from the DSU structure using the correct method\n",
        "clusters_indices = dsu.getGroups()\n",
        "\n",
        "# 2. Create a list of lists, where each inner list represents a cluster and contains the original sentences\n",
        "clusters_sentences = []\n",
        "for indices in clusters_indices.values():\n",
        "    cluster = [sentences[i] for i in indices]\n",
        "    clusters_sentences.append(cluster)\n",
        "\n",
        "# 3. Store the resulting list of clusters (each containing sentences) in a variable.\n",
        "final_clusters = clusters_sentences\n",
        "\n",
        "print(\"Final Clusters (original sentences):\")\n",
        "for i, cluster in enumerate(final_clusters):\n",
        "    print(f\"Cluster {i+1}: {cluster}\")"
      ],
      "execution_count": 48,
      "outputs": [
        {
          "output_type": "error",
          "ename": "AttributeError",
          "evalue": "'list' object has no attribute 'values'",
          "traceback": [
            "\u001b[0;31m---------------------------------------------------------------------------\u001b[0m",
            "\u001b[0;31mAttributeError\u001b[0m                            Traceback (most recent call last)",
            "\u001b[0;32m/tmp/ipython-input-683802509.py\u001b[0m in \u001b[0;36m<cell line: 0>\u001b[0;34m()\u001b[0m\n\u001b[1;32m      4\u001b[0m \u001b[0;31m# 2. Create a list of lists, where each inner list represents a cluster and contains the original sentences\u001b[0m\u001b[0;34m\u001b[0m\u001b[0;34m\u001b[0m\u001b[0m\n\u001b[1;32m      5\u001b[0m \u001b[0mclusters_sentences\u001b[0m \u001b[0;34m=\u001b[0m \u001b[0;34m[\u001b[0m\u001b[0;34m]\u001b[0m\u001b[0;34m\u001b[0m\u001b[0;34m\u001b[0m\u001b[0m\n\u001b[0;32m----> 6\u001b[0;31m \u001b[0;32mfor\u001b[0m \u001b[0mindices\u001b[0m \u001b[0;32min\u001b[0m \u001b[0mclusters_indices\u001b[0m\u001b[0;34m.\u001b[0m\u001b[0mvalues\u001b[0m\u001b[0;34m(\u001b[0m\u001b[0;34m)\u001b[0m\u001b[0;34m:\u001b[0m\u001b[0;34m\u001b[0m\u001b[0;34m\u001b[0m\u001b[0m\n\u001b[0m\u001b[1;32m      7\u001b[0m     \u001b[0mcluster\u001b[0m \u001b[0;34m=\u001b[0m \u001b[0;34m[\u001b[0m\u001b[0msentences\u001b[0m\u001b[0;34m[\u001b[0m\u001b[0mi\u001b[0m\u001b[0;34m]\u001b[0m \u001b[0;32mfor\u001b[0m \u001b[0mi\u001b[0m \u001b[0;32min\u001b[0m \u001b[0mindices\u001b[0m\u001b[0;34m]\u001b[0m\u001b[0;34m\u001b[0m\u001b[0;34m\u001b[0m\u001b[0m\n\u001b[1;32m      8\u001b[0m     \u001b[0mclusters_sentences\u001b[0m\u001b[0;34m.\u001b[0m\u001b[0mappend\u001b[0m\u001b[0;34m(\u001b[0m\u001b[0mcluster\u001b[0m\u001b[0;34m)\u001b[0m\u001b[0;34m\u001b[0m\u001b[0;34m\u001b[0m\u001b[0m\n",
            "\u001b[0;31mAttributeError\u001b[0m: 'list' object has no attribute 'values'"
          ]
        }
      ]
    },
    {
      "cell_type": "markdown",
      "metadata": {
        "id": "a209d0fc"
      },
      "source": [
        "**Reasoning**:\n",
        "The traceback indicates that `clusters_indices` is a list, not a dictionary, and therefore does not have a `.values()` method. I need to iterate directly over the list `clusters_indices` to access the lists of indices for each cluster.\n",
        "\n"
      ]
    }
  ]
}